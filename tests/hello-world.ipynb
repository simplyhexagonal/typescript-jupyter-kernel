{
 "cells": [
  {
   "cell_type": "markdown",
   "id": "dd468402",
   "metadata": {},
   "source": [
    "## Basic Hello World"
   ]
  },
  {
   "cell_type": "code",
   "execution_count": 1,
   "id": "beb06164",
   "metadata": {},
   "outputs": [
    {
     "data": {
      "text/html": [
       "Hello world!\n"
      ]
     },
     "execution_count": 1,
     "metadata": {},
     "output_type": "execute_result"
    }
   ],
   "source": [
    "console.log('Hello world!');"
   ]
  },
  {
   "cell_type": "markdown",
   "id": "239580f7",
   "metadata": {},
   "source": [
    "## Intermediate Hello World"
   ]
  },
  {
   "cell_type": "code",
   "execution_count": 2,
   "id": "9bb2eb21",
   "metadata": {},
   "outputs": [
    {
     "data": {
      "text/html": [
       "<h1>hello world</h1><p><img src=\"https://media.giphy.com/media/2lQCBjuFMLCOvXno4l/giphy.gif\"/></p><p>nvU7Ec</p>\n"
      ]
     },
     "execution_count": 2,
     "metadata": {},
     "output_type": "execute_result"
    }
   ],
   "source": [
    "import ShortUniqueId from 'short-unique-id';\n",
    "import { getClapGif } from 'gifs-pro';\n",
    "\n",
    "const uid = new ShortUniqueId();\n",
    "\n",
    "console.log(`<h1>hello world</h1><p><img src=\"${getClapGif()}\"/></p><p>${uid()}</p>`);"
   ]
  },
  {
   "cell_type": "markdown",
   "id": "82e9324e",
   "metadata": {},
   "source": [
    "## Advanced Hello World"
   ]
  },
  {
   "cell_type": "code",
   "execution_count": 3,
   "id": "b3915def",
   "metadata": {},
   "outputs": [
    {
     "data": {
      "text/html": [
       "<body><h1>Hello World</h1><div style=\"padding: 15px; border: 1px solid #cbb; background: rgb(255, 238, 238);\"><pre>&lt;body&gt;&lt;h1&gt;Hello World&lt;/h1&gt;&lt;/body&gt;</pre></div></body>\n"
      ]
     },
     "execution_count": 3,
     "metadata": {},
     "output_type": "execute_result"
    }
   ],
   "source": [
    "import { JSDOM } from 'jsdom';\n",
    "\n",
    "const { window } = new JSDOM('', { pretendToBeVisual: true });\n",
    "\n",
    "const { document } = window;\n",
    "\n",
    "const body = document.createElement('body');\n",
    "\n",
    "body.appendChild(document.createElement('h1'));\n",
    "body.querySelector('h1').innerHTML = 'Hello World';\n",
    "\n",
    "const pre = document.createElement('pre');\n",
    "pre.append(`${body.outerHTML}`);\n",
    "\n",
    "const sourceContainer = document.createElement('div');\n",
    "\n",
    "sourceContainer.style = 'padding: 15px; border: 1px solid #cbb; background: #fee;';\n",
    "\n",
    "sourceContainer.appendChild(pre);\n",
    "\n",
    "body.appendChild(sourceContainer);\n",
    "\n",
    "console.log(body.outerHTML);"
   ]
  }
 ],
 "metadata": {
  "kernelspec": {
   "display_name": "Typescript",
   "language": "ts",
   "name": "typescript"
  },
  "language_info": {
   "codemirror_mode": "ts",
   "file_extension": ".ts",
   "mimetype": "text/x-typescript",
   "name": "typescript",
   "nbconvert_exporter": "",
   "pygments_lexer": "ts",
   "version": "1.0"
  }
 },
 "nbformat": 4,
 "nbformat_minor": 5
}
